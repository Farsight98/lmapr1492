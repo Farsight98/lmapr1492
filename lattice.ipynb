{
 "cells": [
  {
   "cell_type": "code",
   "execution_count": 22,
   "metadata": {},
   "outputs": [
    {
     "name": "stdout",
     "output_type": "stream",
     "text": [
      "structure :  Full Formula (Y1 Tl1 O2)\n",
      "Reduced Formula: YTlO2\n",
      "abc   :   6.809538   6.809538   6.809538\n",
      "angles:  29.891872  29.891872  29.891872\n",
      "Sites (4)\n",
      "  #  SP           a         b         c\n",
      "---  ----  --------  --------  --------\n",
      "  0  Y     0.5       0.5       0.5\n",
      "  1  Tl    0         0         0\n",
      "  2  O     0.224317  0.224317  0.224317\n",
      "  3  O     0.775683  0.775683  0.775683 \n",
      "\n",
      "coordonnées des vecteurs du réseau direct: 3.393634 0.000000 5.903648\n",
      "1.575909 3.005539 5.903648\n",
      "0.000000 0.000000 6.809538 \n",
      "\n",
      "normes des vecteurs du réseau direct (a,b et c): (6.809538, 6.809538, 6.809538) \n",
      "\n",
      "coordonnées des vecteurs du réseau réciproque: 1.851462 -0.970786 0.000000\n",
      "0.000000 2.090536 0.000000\n",
      "-1.605158 -0.970786 0.922704 \n",
      "\n",
      "normes des vecteurs du réseau réciproque (a*,b* et c*): (2.090535566340217, 2.090535566340217, 2.0905355663402165) \n",
      "\n",
      "Type de maille du matériau: rhombohedral \n",
      "\n",
      "Type de système cristallin: trigonal \n",
      "\n",
      "Groupe ponctuel: R-3m \n",
      "\n"
     ]
    }
   ],
   "source": [
    "from pymatgen.symmetry.analyzer import SpacegroupAnalyzer\n",
    "from pymatgen.util.coord import pbc_shortest_vectors\n",
    "from pymatgen.util.num import abs_cap\n",
    "from pymatgen.util.typing import Vector3Like\n",
    "from pymatgen.ext.matproj import MPRester\n",
    "from pymatgen.io.cif import CifWriter\n",
    "from pymatgen.core.lattice import Lattice\n",
    "\n",
    "\n",
    "import pymatgen.symmetry.analyzer as span\n",
    "with MPRester(\"z18b57ZwfPDtXJVD\") as m:\n",
    "\n",
    "    # Structure du matériau\n",
    "    structure = m.get_structure_by_material_id(\"mp-755544\")\n",
    "    new_s=SpacegroupAnalyzer(structure).get_primitive_standard_structure()\n",
    "    print(\"structure : \" ,new_s, '\\n')\n",
    "    \n",
    "    \n",
    "    \n",
    "    #Lattice du structure rhombohedrale \n",
    "    lat=Lattice.rhombohedral(6.809538,29.891872)\n",
    "    \n",
    "    # Vecteurs de base du réseau direct \n",
    "    print(\"coordonnées des vecteurs du réseau direct:\",lat, '\\n')\n",
    "    \n",
    "    # Normes des vecteurs de base du réseau direct \n",
    "    dir_vect=lat.lengths\n",
    "    print(\"normes des vecteurs du réseau direct (a,b et c):\",dir_vect, '\\n')\n",
    "    \n",
    "    # Vecteurs de base du réseau réciproque \n",
    "    rec_lat= lat.reciprocal_lattice\n",
    "    print(\"coordonnées des vecteurs du réseau réciproque:\",rec_lat, '\\n')\n",
    "    \n",
    "    # Normes des vecteurs de base du réseau réciproque \n",
    "    rec_vect= rec_lat.lengths\n",
    "    print(\"normes des vecteurs du réseau réciproque (a*,b* et c*):\",rec_vect, '\\n')\n",
    "    \n",
    "    stru=span.SpacegroupAnalyzer(new_s)\n",
    "    \n",
    "    # Type de maille du matériau\n",
    "    print(\"Type de maille du matériau:\",stru.get_lattice_type() , '\\n')\n",
    "    \n",
    "    # Type de système cristallin du matériau\n",
    "    print(\"Type de système cristallin:\",stru.get_crystal_system(), '\\n')\n",
    "    \n",
    "    # Groupe ponctuel du matériau\n",
    "    print(\"Groupe ponctuel:\",stru.get_space_group_symbol(), '\\n')"
   ]
  },
  {
   "cell_type": "code",
   "execution_count": null,
   "metadata": {},
   "outputs": [],
   "source": []
  }
 ],
 "metadata": {
  "kernelspec": {
   "display_name": "Python 3",
   "language": "python",
   "name": "python3"
  },
  "language_info": {
   "codemirror_mode": {
    "name": "ipython",
    "version": 3
   },
   "file_extension": ".py",
   "mimetype": "text/x-python",
   "name": "python",
   "nbconvert_exporter": "python",
   "pygments_lexer": "ipython3",
   "version": "3.6.8"
  }
 },
 "nbformat": 4,
 "nbformat_minor": 2
}
