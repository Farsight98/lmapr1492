{
 "cells": [
  {
   "cell_type": "code",
   "execution_count": 16,
   "metadata": {},
   "outputs": [
    {
     "name": "stdout",
     "output_type": "stream",
     "text": [
      "coordonnées des vecteurs du réseau direct: 3.512462 0.000000 0.000000\n",
      "-1.756231 3.041881 0.000000\n",
      "0.000000 0.000000 19.501696 \n",
      "\n",
      "normes des vecteurs du réseau direct (a,b et c): (3.51246189, 3.51246189, 19.50169647) \n",
      "\n",
      "coordonnées des vecteurs du réseau réciproque: 1.788827 1.032780 0.000000\n",
      "0.000000 2.065559 0.000000\n",
      "-0.000000 -0.000000 0.322187 \n",
      "\n",
      "normes des vecteurs du réseau réciproque (a*,b* et c*): (2.065559053492498, 2.065559053492498, 0.3221866013987647) \n",
      "\n",
      "Type de maille du matériau: rhombohedral \n",
      "\n",
      "Type de système cristallin: trigonal \n",
      "\n",
      "Groupe ponctuel: R-3m \n",
      "\n"
     ]
    }
   ],
   "source": [
    "from pymatgen.symmetry.analyzer import SpacegroupAnalyzer\n",
    "from pymatgen.util.coord import pbc_shortest_vectors\n",
    "from pymatgen.util.num import abs_cap\n",
    "from pymatgen.util.typing import Vector3Like\n",
    "from pymatgen.ext.matproj import MPRester\n",
    "from pymatgen.io.cif import CifWriter\n",
    "from pymatgen.core.lattice import Lattice\n",
    "from pymatgen.core.sites import Site\n",
    "\n",
    "import pymatgen.symmetry.analyzer as span\n",
    "with MPRester(\"z18b57ZwfPDtXJVD\") as m:\n",
    "\n",
    "    # Structure du matériau\n",
    "    structure = m.get_structure_by_material_id(\"mp-755544\")    \n",
    "    \n",
    "    \n",
    "    #Lattice du structure hexagonal \n",
    "    lat=Lattice.hexagonal(3.51246189,19.50169647)\n",
    "    \n",
    "    # Vecteurs de base du réseau direct \n",
    "    print(\"coordonnées des vecteurs du réseau direct:\",lat, '\\n')\n",
    "    \n",
    "    # Normes des vecteurs de base du réseau direct \n",
    "    dir_vect=lat.lengths\n",
    "    print(\"normes des vecteurs du réseau direct (a,b et c):\",dir_vect, '\\n')\n",
    "    \n",
    "    # Vecteurs de base du réseau réciproque \n",
    "    rec_lat= lat.reciprocal_lattice\n",
    "    print(\"coordonnées des vecteurs du réseau réciproque:\",rec_lat, '\\n')\n",
    "    \n",
    "    # Normes des vecteurs de base du réseau réciproque \n",
    "    rec_vect= rec_lat.lengths\n",
    "    print(\"normes des vecteurs du réseau réciproque (a*,b* et c*):\",rec_vect, '\\n')\n",
    "    \n",
    "    stru=span.SpacegroupAnalyzer(structure)\n",
    "    \n",
    "    # Type de maille du matériau\n",
    "    print(\"Type de maille du matériau:\",stru.get_lattice_type() , '\\n')\n",
    "    \n",
    "    # Type de système cristallin du matériau\n",
    "    print(\"Type de système cristallin:\",stru.get_crystal_system(), '\\n')\n",
    "    \n",
    "    # Groupe ponctuel du matériau\n",
    "    print(\"Groupe ponctuel:\",stru.get_space_group_symbol(), '\\n')"
   ]
  },
  {
   "cell_type": "code",
   "execution_count": null,
   "metadata": {},
   "outputs": [],
   "source": []
  }
 ],
 "metadata": {
  "kernelspec": {
   "display_name": "Python 3",
   "language": "python",
   "name": "python3"
  },
  "language_info": {
   "codemirror_mode": {
    "name": "ipython",
    "version": 3
   },
   "file_extension": ".py",
   "mimetype": "text/x-python",
   "name": "python",
   "nbconvert_exporter": "python",
   "pygments_lexer": "ipython3",
   "version": "3.6.8"
  }
 },
 "nbformat": 4,
 "nbformat_minor": 2
}
