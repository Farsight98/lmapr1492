{
 "cells": [
  {
   "cell_type": "code",
   "execution_count": null,
   "metadata": {},
   "outputs": [],
   "source": [
    "from pymatgen.symmetry.analyzer import SpacegroupAnalyzer\n",
    "from pymatgen.util.coord import pbc_shortest_vectors\n",
    "from pymatgen.util.num import abs_cap\n",
    "from pymatgen.util.typing import Vector3Like\n",
    "from pymatgen.ext.matproj import MPRester\n",
    "from pymatgen.io.cif import CifWriter\n",
    "from pymatgen.core.lattice import Lattice\n",
    "from pymatgen.core.sites import Site\n",
    "\n",
    "import pymatgen.symmetry.analyzer as span\n",
    "with MPRester(\"z18b57ZwfPDtXJVD\") as m:\n",
    "\n",
    "    # Structure du matériau\n",
    "    structure = m.get_structure_by_material_id(\"mp-755544\")    \n",
    "    print(structure)\n",
    "    #Création du lattice du structure hexagonal pour affiché les vecteurs du réseau de base et du réseau réciproque\n",
    "    lat=Lattice.hexagonal(3.51246189,19.50169647)\n",
    "    # Coordonnées des vecteurs de base du réseau direct (a,b et c)\n",
    "    print(\"coordonnées des vecteurs du réseau direct:\",lat)\n",
    "    # Normes des vecteurs de base du réseau direct (a,b et c)\n",
    "    dir_vect=lat.lengths\n",
    "    print(\"normes des vecteurs du réseau direct (a,b et c):\",dir_vect)\n",
    "    # Coordonnées des vecteurs de base du réseau réciproque (a*,b* et c*)\n",
    "    rec_lat= lat.reciprocal_lattice\n",
    "    print(\"coordonnées des vecteurs du réseau réciproque:\",rec_lat)\n",
    "    # Normes des vecteurs de base du réseau réciproque (a*,b* et c*)\n",
    "    rec_vect= rec_lat.lengths\n",
    "    print(\"normes des vecteurs du réseau réciproque (a*,b* et c*):\",rec_vect)\n",
    "    # Variable pour afficher le type de maille, le système cristallin et le groupe ponctuel\n",
    "    stru=span.SpacegroupAnalyzer(structure)\n",
    "    # Type de maille du matériau\n",
    "    print(\"Type de maille du matériau:\",stru.get_lattice_type())\n",
    "    # Type de système cristallin du matériau\n",
    "    print(\"Type de système cristallin:\",stru.get_crystal_system())\n",
    "    # Groupe ponctuel du matériau\n",
    "    print(\"Groupe ponctuel:\",stru.get_space_group_symbol())"
   ]
  }
 ],
 "metadata": {
  "kernelspec": {
   "display_name": "Python 3",
   "language": "python",
   "name": "python3"
  },
  "language_info": {
   "codemirror_mode": {
    "name": "ipython",
    "version": 3
   },
   "file_extension": ".py",
   "mimetype": "text/x-python",
   "name": "python",
   "nbconvert_exporter": "python",
   "pygments_lexer": "ipython3",
   "version": "3.6.8"
  }
 },
 "nbformat": 4,
 "nbformat_minor": 2
}
