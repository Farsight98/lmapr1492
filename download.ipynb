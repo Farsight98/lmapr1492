{
 "cells": [
  {
   "cell_type": "code",
   "execution_count": null,
   "metadata": {},
   "outputs": [],
   "source": [
    "from pymatgen.ext.matproj import MPRester\n",
    "from pymatgen.io.cif import CifWriter\n",
    "with MPRester(\"z18b57ZwfPDtXJVD\") as m:\n",
    "    struct = m.get_structure_by_material_id(\"mp-755544\")\n",
    "    wr = CifWriter(struct)\n",
    "    wr.write_file('YTlO2_mp-755544_symmetrized.cif')\n",
    "\n",
    "\n",
    "Fin de la discussion\n",
    "Écrivez un message...\n",
    "\n",
    "\n",
    "\n"
   ]
  }
 ],
 "metadata": {
  "kernelspec": {
   "display_name": "Python 3",
   "language": "python",
   "name": "python3"
  },
  "language_info": {
   "codemirror_mode": {
    "name": "ipython",
    "version": 3
   },
   "file_extension": ".py",
   "mimetype": "text/x-python",
   "name": "python",
   "nbconvert_exporter": "python",
   "pygments_lexer": "ipython3",
   "version": "3.6.8"
  }
 },
 "nbformat": 4,
 "nbformat_minor": 2
}
